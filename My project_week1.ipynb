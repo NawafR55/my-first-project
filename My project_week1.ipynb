{
 "cells": [
  {
   "cell_type": "markdown",
   "id": "a3032d56",
   "metadata": {},
   "source": [
    "## Week 1\n"
   ]
  },
  {
   "cell_type": "markdown",
   "id": "bba7b74d",
   "metadata": {},
   "source": [
    "1- Datatypes\n",
    "\n",
    "2- Expression and varible\n",
    "\n",
    "3- Single operations\n",
    "\n",
    "4- Lists and Tuples\n",
    "\n",
    "5- Dictionaries"
   ]
  },
  {
   "cell_type": "markdown",
   "id": "6b0c6e93",
   "metadata": {},
   "source": [
    "## Data type"
   ]
  },
  {
   "cell_type": "code",
   "execution_count": 1,
   "id": "1e76f122",
   "metadata": {},
   "outputs": [
    {
     "name": "stdout",
     "output_type": "stream",
     "text": [
      "My name is  Nawaf\n",
      "My age is  19\n",
      "My grade is  {3.9} {'N'}\n"
     ]
    }
   ],
   "source": [
    "                                         # I'm going to start with datatypes\n",
    "\n",
    "#integers:\n",
    "age = 19\n",
    "\n",
    "#floot:\n",
    "gpa = {3.90}\n",
    "\n",
    "#strings:\n",
    "name = \"Nawaf\"\n",
    "\n",
    "#Chars:\n",
    "grade = {'N'}\n",
    "\n",
    "print(\"My name is \",name)\n",
    "print(\"My age is \",age)\n",
    "print(\"My grade is \",gpa ,grade)"
   ]
  },
  {
   "cell_type": "markdown",
   "id": "9c8e3aca",
   "metadata": {},
   "source": [
    " ## Expression and varible "
   ]
  },
  {
   "cell_type": "code",
   "execution_count": 2,
   "id": "c029740b",
   "metadata": {},
   "outputs": [
    {
     "name": "stdout",
     "output_type": "stream",
     "text": [
      "An result of the addition  10\n",
      "An result of the Multiplication  50\n",
      "An result of the Division  3.0\n",
      "An result of the Substaction  10\n"
     ]
    }
   ],
   "source": [
    "                                                # Expression and varible \n",
    "\n",
    "#here the num1 2 3... is the variable that we assign value to the variable \n",
    "\n",
    "#Adddition\n",
    "Num1 = 4\n",
    "Num2 = 6\n",
    "sum1 = Num1 + Num2\n",
    "\n",
    "#Multiplication\n",
    "Num3 = 5\n",
    "Num4 = 10\n",
    "sum2 = Num3 * Num4\n",
    "\n",
    "#Division\n",
    "Num5 = 12\n",
    "Num6 = 4\n",
    "sum3 = Num5 / Num6\n",
    "\n",
    "#Substaction\n",
    "Num7 = 15\n",
    "Num8 = 5\n",
    "sum4 = Num7 - Num8\n",
    "    \n",
    "print(\"An result of the addition \",sum1)\n",
    "print(\"An result of the Multiplication \",sum2)\n",
    "print(\"An result of the Division \",sum3)\n",
    "print(\"An result of the Substaction \",sum4)"
   ]
  },
  {
   "cell_type": "markdown",
   "id": "32f0a4a6",
   "metadata": {},
   "source": [
    "## single operations in python"
   ]
  },
  {
   "cell_type": "markdown",
   "id": "8aec3fcc",
   "metadata": {},
   "source": [
    "here it's have some of Funtions in single operations\n",
    "\n",
    "* abs(): function returns the absolute value of a number.\n",
    "   \n",
    "* len(): function returns the length of an object, such as a string or a list.\n",
    "    \n",
    "   "
   ]
  },
  {
   "cell_type": "code",
   "execution_count": 5,
   "id": "c8af5e29",
   "metadata": {},
   "outputs": [
    {
     "name": "stdout",
     "output_type": "stream",
     "text": [
      "here will see the Absolute Value of -11 and -87 :  11 , 87\n"
     ]
    }
   ],
   "source": [
    "x = -11\n",
    "y = abs(x)\n",
    "c = abs(-87)\n",
    "print('here will see the Absolute Value of -11 and -87 : ',y,',',c)\n",
    "     "
   ]
  },
  {
   "cell_type": "code",
   "execution_count": 6,
   "id": "098cd325",
   "metadata": {},
   "outputs": [
    {
     "name": "stdout",
     "output_type": "stream",
     "text": [
      "here length of n and z :  8 , 7\n"
     ]
    }
   ],
   "source": [
    "#Note: here the Space between the Word and count it \n",
    "n = 'Nawaf 55'\n",
    "x = len(n)\n",
    "z = len('welcome')\n",
    "print('here length of n and z : ',x,',',z)"
   ]
  },
  {
   "cell_type": "markdown",
   "id": "c1755f28",
   "metadata": {},
   "source": [
    "## List and Tuple"
   ]
  },
  {
   "cell_type": "markdown",
   "id": "d67eed0a",
   "metadata": {},
   "source": [
    "* List you can change some data\n",
    "* Tuple you can't change the data"
   ]
  },
  {
   "cell_type": "code",
   "execution_count": 3,
   "id": "a5bee909",
   "metadata": {},
   "outputs": [
    {
     "name": "stdout",
     "output_type": "stream",
     "text": [
      "Is the list before change :  [1, 2, 3, 'messi', 'Nawaf', 3.99] \n",
      "\n",
      "Is the list after change :  [1, 2, 3, 'CR7', 'Nawaf', 3.99]\n"
     ]
    }
   ],
   "source": [
    "# 1-List\n",
    "x = [1,2,3,'messi','Nawaf',3.99]\n",
    "print('Is the list before change : ',x,\"\\n\")\n",
    "x [3] = 'CR7'\n",
    "print('Is the list after change : ',x)"
   ]
  },
  {
   "cell_type": "code",
   "execution_count": 4,
   "id": "0ad78e95",
   "metadata": {},
   "outputs": [
    {
     "name": "stdout",
     "output_type": "stream",
     "text": [
      "this is the Tuple :  (1, 2, 3, 'CR7', 'Nawaf', 3.99)\n"
     ]
    }
   ],
   "source": [
    "# 2- Tuple\n",
    "s = (1, 2, 3, 'CR7', 'Nawaf', 3.99)\n",
    "print('this is the Tuple : ',s)"
   ]
  },
  {
   "cell_type": "markdown",
   "id": "3ffaf962",
   "metadata": {},
   "source": [
    "## Dictionaries"
   ]
  },
  {
   "cell_type": "markdown",
   "id": "cbdea358",
   "metadata": {},
   "source": [
    "in the dictionaries you can change the data by using k-based index to access the value inside your dictionaries"
   ]
  },
  {
   "cell_type": "code",
   "execution_count": 8,
   "id": "912f27bd",
   "metadata": {},
   "outputs": [
    {
     "name": "stdout",
     "output_type": "stream",
     "text": [
      "example:  {'age': 19, 'jop': 'COO', 'city': 'Taif'}\n",
      "example:  {'age': 20, 'jop': 'CMO', 'city': 'Taif'}\n"
     ]
    }
   ],
   "source": [
    "STITWOT ={\n",
    "    'Nawaf':\n",
    "    {\n",
    "         'age':19,\n",
    "         'jop':'COO',\n",
    "         'city':'Taif'\n",
    "    },\n",
    "    \n",
    "    'Abdulrahman':\n",
    "    {\n",
    "        'age':19,\n",
    "        'jop':'leader',\n",
    "        'city':'Taif'\n",
    "    },\n",
    "    \n",
    "    'Faisl':\n",
    "    {\n",
    "        'age':19,\n",
    "        'jop':'CEO',\n",
    "        'city':'Taif'\n",
    "    },\n",
    "    \n",
    "    'Hamed':\n",
    "    {\n",
    "        'age':19,\n",
    "        'jop':'CEO',\n",
    "        'city':'Taif'\n",
    "    },\n",
    "    \n",
    "    'Zeyad':\n",
    "    {\n",
    "        'age':19,\n",
    "        'jop':'CMO',\n",
    "        'city':'Taif'\n",
    "    },\n",
    "    \n",
    "    'Yasser':\n",
    "    {\n",
    "        'age':19,\n",
    "        'jop':'R&D',\n",
    "        'city':'Taif'\n",
    "    },  \n",
    "}\n",
    "\n",
    "print('example: ',STITWOT['Nawaf'])\n",
    "\n",
    "# if you want to change in any data in the dictionaries \n",
    "STITWOT['Zeyad']['age'] = 20\n",
    "\n",
    "print('example: ',STITWOT['Zeyad'])"
   ]
  },
  {
   "cell_type": "markdown",
   "id": "aeaf3a0c",
   "metadata": {},
   "source": [
    "## project"
   ]
  },
  {
   "cell_type": "markdown",
   "id": "93f1f8a4",
   "metadata": {},
   "source": [
    "The project will calculate the Chief operating officer 'COO' salary"
   ]
  },
  {
   "cell_type": "code",
   "execution_count": 1,
   "id": "8ac46cf4",
   "metadata": {},
   "outputs": [
    {
     "name": "stdout",
     "output_type": "stream",
     "text": [
      "COO Nawaf Salary for the Month of May is : 37876.0\n"
     ]
    }
   ],
   "source": [
    "name = \"Nawaf\"\n",
    "basicSalary = 38000\n",
    "bonus = 4000\n",
    "penalties = 290\n",
    "extraHours = 12\n",
    "taxRate = 0.15\n",
    "\n",
    "#Calclulating the extra Hours Value\n",
    "totalHours = 8 * 5 * 4\n",
    "hourlyRate = basicSalary / totalHours\n",
    "extraValue = extraHours * hourlyRate\n",
    "totalSalary = basicSalary + bonus + extraValue - penalties\n",
    "taxValue = totalSalary * taxRate \n",
    "netSalary = totalSalary - taxValue\n",
    "print(\"COO Nawaf Salary for the Month of May is :\",netSalary)"
   ]
  },
  {
   "cell_type": "code",
   "execution_count": null,
   "id": "5a3caa53",
   "metadata": {},
   "outputs": [],
   "source": []
  }
 ],
 "metadata": {
  "kernelspec": {
   "display_name": "Python 3 (ipykernel)",
   "language": "python",
   "name": "python3"
  },
  "language_info": {
   "codemirror_mode": {
    "name": "ipython",
    "version": 3
   },
   "file_extension": ".py",
   "mimetype": "text/x-python",
   "name": "python",
   "nbconvert_exporter": "python",
   "pygments_lexer": "ipython3",
   "version": "3.9.12"
  }
 },
 "nbformat": 4,
 "nbformat_minor": 5
}
