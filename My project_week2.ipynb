{
 "cells": [
  {
   "cell_type": "markdown",
   "id": "b5ee5953",
   "metadata": {},
   "source": [
    "## week2"
   ]
  },
  {
   "cell_type": "markdown",
   "id": "79bdfa14",
   "metadata": {},
   "source": [
    "1- Sets.\n",
    "\n",
    "2- Condition and Branching.\n",
    "\n",
    "3- Loops.\n",
    "\n",
    "4- Functions.\n",
    "\n",
    "5- Exception Handling.\n",
    "\n",
    "6- Object and Classes."
   ]
  },
  {
   "cell_type": "markdown",
   "id": "64363d3c",
   "metadata": {},
   "source": [
    "## Sets"
   ]
  },
  {
   "cell_type": "markdown",
   "id": "ac26537f",
   "metadata": {},
   "source": [
    "In Python, we create sets by placing all the elements inside curly braces {}, separated by comma.\n",
    "\n",
    "A set can have any number of items and they may be of different types (integer, float, tuple, string etc.). But a set cannot have mutable elements like lists, sets or dictionaries as its elements."
   ]
  },
  {
   "cell_type": "code",
   "execution_count": 6,
   "id": "556d22bd",
   "metadata": {},
   "outputs": [
    {
     "data": {
      "text/plain": [
       "{19, 'CS', 'Nawaf', 'true'}"
      ]
     },
     "execution_count": 6,
     "metadata": {},
     "output_type": "execute_result"
    }
   ],
   "source": [
    "                    # I'm going to start with sets\n",
    "#A- create a set:\n",
    "\n",
    "set1 = {\"Nawaf\", \"true\", 19, 'CS', \"true\"}\n",
    "set1"
   ]
  },
  {
   "cell_type": "code",
   "execution_count": 5,
   "id": "eeeb4e1b",
   "metadata": {},
   "outputs": [
    {
     "data": {
      "text/plain": [
       "{'CR7', 'CS', 'Nawaf', 'true'}"
      ]
     },
     "execution_count": 5,
     "metadata": {},
     "output_type": "execute_result"
    }
   ],
   "source": [
    "#B- Set Operations:\n",
    "\n",
    "A = set([\"Nawaf\", \"true\", \"CS\"])\n",
    "A.add(\"CR7\")\n",
    "A"
   ]
  },
  {
   "cell_type": "markdown",
   "id": "512cc9a2",
   "metadata": {},
   "source": [
    "## Conditions and Branching"
   ]
  },
  {
   "cell_type": "markdown",
   "id": "34938281",
   "metadata": {},
   "source": [
    "Conditions are a key part of programming, but are also something that you probably use every day without thinking about it. A condition is a statement that can be either true or false, and programmers can use conditions to trigger actions.\n"
   ]
  },
  {
   "cell_type": "code",
   "execution_count": 7,
   "id": "43459aaf",
   "metadata": {},
   "outputs": [
    {
     "data": {
      "text/plain": [
       "True"
      ]
     },
     "execution_count": 7,
     "metadata": {},
     "output_type": "execute_result"
    }
   ],
   "source": [
    "#A- greater and less than\n",
    "\n",
    "v = 2\n",
    "v < 3"
   ]
  },
  {
   "cell_type": "code",
   "execution_count": 8,
   "id": "0460fada",
   "metadata": {},
   "outputs": [
    {
     "name": "stdout",
     "output_type": "stream",
     "text": [
      "X is greater than Y\n"
     ]
    }
   ],
   "source": [
    "#B- If statement:\n",
    "\n",
    "x = 4\n",
    "y = 2\n",
    "if x > y:\n",
    "    print(\"X is greater than Y\")\n",
    "else:\n",
    "    print(\"X is NOT greter than Y \")"
   ]
  },
  {
   "cell_type": "markdown",
   "id": "841853e9",
   "metadata": {},
   "source": [
    "## Loops"
   ]
  },
  {
   "cell_type": "markdown",
   "id": "22bfc23b",
   "metadata": {},
   "source": [
    "a control structrue that causes a statement or statements to repeat "
   ]
  },
  {
   "cell_type": "code",
   "execution_count": 3,
   "id": "bfffdccf",
   "metadata": {},
   "outputs": [
    {
     "name": "stdout",
     "output_type": "stream",
     "text": [
      "0 Nawaf\n",
      "1 Nawaf\n",
      "2 Nawaf\n",
      "3 Nawaf\n",
      "4 Nawaf\n",
      "5 Nawaf\n",
      "6 Nawaf\n",
      "7 Nawaf\n",
      "8 Nawaf\n",
      "9 Nawaf\n",
      "10 Nawaf\n"
     ]
    }
   ],
   "source": [
    "#A- While Loop:\n",
    "\n",
    "t = 0\n",
    "n = 11\n",
    "while t < n:\n",
    "    print(t,\"Nawaf\")\n",
    "    t = t + 1"
   ]
  },
  {
   "cell_type": "code",
   "execution_count": 4,
   "id": "4fadd3e8",
   "metadata": {},
   "outputs": [
    {
     "name": "stdout",
     "output_type": "stream",
     "text": [
      "If you worked  30  hours, You earn  2565.0 SAR\n",
      "If you worked  31  hours, You earn  2650.5 SAR\n",
      "If you worked  32  hours, You earn  2736.0 SAR\n",
      "If you worked  33  hours, You earn  2821.5 SAR\n",
      "If you worked  34  hours, You earn  2907.0 SAR\n",
      "If you worked  35  hours, You earn  2992.5 SAR\n",
      "If you worked  36  hours, You earn  3078.0 SAR\n",
      "If you worked  37  hours, You earn  3163.5 SAR\n",
      "If you worked  38  hours, You earn  3249.0 SAR\n",
      "If you worked  39  hours, You earn  3334.5 SAR\n",
      "If you worked  40  hours, You earn  3420.0 SAR\n"
     ]
    }
   ],
   "source": [
    "#B- For Loop:\n",
    "hour1yRate = 85.5\n",
    "for w in range(30,41):\n",
    "    salary = w * hour1yRate\n",
    "    print(\"If you worked \", w , \" hours, You earn \", salary, \"SAR\")\n",
    "    "
   ]
  },
  {
   "cell_type": "markdown",
   "id": "37f6ef30",
   "metadata": {},
   "source": [
    "## Functions"
   ]
  },
  {
   "cell_type": "markdown",
   "id": "ac47f08a",
   "metadata": {},
   "source": [
    "A function is a block of code which only runs when it is called.\n",
    "\n",
    "There are two types of function in Python programming:\n",
    "\n",
    "* **Standard library functions** - These are built-in functions in Python that are available to use.\n",
    "* **User-defined functions** - We can create our own functions based on our requirements."
   ]
  },
  {
   "cell_type": "code",
   "execution_count": 5,
   "id": "cd1414c5",
   "metadata": {},
   "outputs": [],
   "source": [
    "# User-defined functions \n",
    "\n",
    "fNmu = 5\n",
    "sNmu = 9\n",
    "\n",
    "def sum(fNmuber, sNmuber):\n",
    "    sum = fNmuber + sNmuber\n",
    "    #print(\"The result is \",sum)\n",
    "    return sum\n",
    "def sub(fNmuber, sNmuber):\n",
    "    sub = fNmuber - sNmuber\n",
    "    #print(\"The result is \",sub)\n",
    "    return sub\n",
    "\n",
    "def mul():\n",
    "    mul = fNmuber * sNmuber\n",
    "    #print(\"The result is\",mul)\n",
    "    return mul\n",
    "\n",
    "def div():\n",
    "    div = fNmuber / sNmuber\n",
    "    #print(\"The result is \",div)\n",
    "    return div"
   ]
  },
  {
   "cell_type": "code",
   "execution_count": 6,
   "id": "d12dfefe",
   "metadata": {},
   "outputs": [
    {
     "name": "stdout",
     "output_type": "stream",
     "text": [
      "67\n"
     ]
    }
   ],
   "source": [
    "x = sum(9, 2)\n",
    "e = x * 7\n",
    "t = sub(e, 10)\n",
    "print(t)"
   ]
  },
  {
   "cell_type": "markdown",
   "id": "6a98b232",
   "metadata": {},
   "source": [
    "## Exceptions Handling"
   ]
  },
  {
   "cell_type": "markdown",
   "id": "e2ccd48f",
   "metadata": {},
   "source": [
    "is the process of responding to unwanted or unexpected events when a computer program runs. Exception handling deals with these events to avoid the program or system crashing, and without this process, exceptions would disrupt the normal operation of a program."
   ]
  },
  {
   "cell_type": "code",
   "execution_count": 1,
   "id": "b8684ff9",
   "metadata": {},
   "outputs": [
    {
     "name": "stdout",
     "output_type": "stream",
     "text": [
      "Enter your age: 19\n",
      "19\n"
     ]
    }
   ],
   "source": [
    "try :\n",
    "    age = int(input('Enter your age: '))\n",
    "    income = 90\n",
    "    risk = income / age\n",
    "    print(age)\n",
    "except ZeroDivisionError:\n",
    "    print('Age cannot be 0.')\n",
    "except ValueError:\n",
    "    print('Invalid value')\n",
    "    "
   ]
  },
  {
   "cell_type": "markdown",
   "id": "c3c2c6b1",
   "metadata": {},
   "source": [
    "## object and classes"
   ]
  },
  {
   "cell_type": "markdown",
   "id": "8bca1f3d",
   "metadata": {},
   "source": [
    "A class is a user-defined type that describes what a certain type of object will look like"
   ]
  },
  {
   "cell_type": "code",
   "execution_count": 3,
   "id": "001c6ff5",
   "metadata": {},
   "outputs": [
    {
     "name": "stdout",
     "output_type": "stream",
     "text": [
      "Nawaf 19\n",
      "Fahad 10\n"
     ]
    }
   ],
   "source": [
    "from abc import ABC, abstractmethod\n",
    "# multi-level inheritance: Manager(Employee) and Employee(Person)\n",
    "class Person():\n",
    "    def __init__(self, name, age):\n",
    "        # the attributes\n",
    "        self._name = name\n",
    "        self._age = age\n",
    "\n",
    "    # redefine str(obj); it's called when we use print(obj)\n",
    "    def __str__(self):\n",
    "        return self._name + ' ' + str(self._age)\n",
    "    # to define a Person from his birthdate\n",
    "    @classmethod\n",
    "    def fromBirthDate(cls, name, year):\n",
    "        return cls(name, 2020 - year)\n",
    "\n",
    "# abstract class\n",
    "class Employee(Person, ABC):\n",
    "    def __init__(self, name, age, salary):\n",
    "        # define the attributes of the mother class\n",
    "        super().__init__(name, age)\n",
    "        # add the new attribute\n",
    "        self._salary = salary\n",
    "\n",
    "    @abstractmethod\n",
    "    def show_salary(self):\n",
    "        pass\n",
    "\n",
    "\n",
    "class Manager(Employee):\n",
    "    # Redefining the abstract method\n",
    "    def show_salary(self):\n",
    "        print(\"Salary from Manager is = \", self._salary)\n",
    "\n",
    "# Here you can test any example you want !\n",
    "# a Person object\n",
    "p = Person(\"Nawaf\", 19)\n",
    "print(p)\n",
    "\n",
    "# Second Person\n",
    "p2 = Person.fromBirthDate('Fahad', 2010)\n",
    "print(p2)"
   ]
  },
  {
   "cell_type": "code",
   "execution_count": null,
   "id": "2a8a61a0",
   "metadata": {},
   "outputs": [],
   "source": []
  }
 ],
 "metadata": {
  "kernelspec": {
   "display_name": "Python 3 (ipykernel)",
   "language": "python",
   "name": "python3"
  },
  "language_info": {
   "codemirror_mode": {
    "name": "ipython",
    "version": 3
   },
   "file_extension": ".py",
   "mimetype": "text/x-python",
   "name": "python",
   "nbconvert_exporter": "python",
   "pygments_lexer": "ipython3",
   "version": "3.9.12"
  }
 },
 "nbformat": 4,
 "nbformat_minor": 5
}
